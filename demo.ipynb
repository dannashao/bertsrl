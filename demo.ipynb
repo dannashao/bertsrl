{
 "cells": [
  {
   "cell_type": "code",
   "execution_count": 1,
   "id": "0e8b87e1-41ad-481c-9a0a-cd3ba9e7fbe1",
   "metadata": {},
   "outputs": [
    {
     "name": "stderr",
     "output_type": "stream",
     "text": [
      "/home/arimo/Desktop/Studily/ANLP/Advanced_NLP_group_1/A3/baseline_ds.py:26: FutureWarning: load_metric is deprecated and will be removed in the next major version of datasets. Use 'evaluate.load' instead, from the new library 🤗 Evaluate: https://huggingface.co/docs/evaluate\n",
      "  metric = load_metric(\"seqeval\")\n",
      "/home/arimo/.local/lib/python3.10/site-packages/datasets/load.py:752: FutureWarning: The repository for seqeval contains custom code which must be executed to correctly load the metric. You can inspect the repository content at https://raw.githubusercontent.com/huggingface/datasets/2.16.1/metrics/seqeval/seqeval.py\n",
      "You can avoid this message in future by passing the argument `trust_remote_code=True`.\n",
      "Passing `trust_remote_code=True` will be mandatory to load this metric from the next major release of `datasets`.\n",
      "  warnings.warn(\n"
     ]
    },
    {
     "data": {
      "application/vnd.jupyter.widget-view+json": {
       "model_id": "bc2abc074b7c423d8cd4c3dc3b3efb72",
       "version_major": 2,
       "version_minor": 0
      },
      "text/plain": [
       "Map:   0%|          | 0/42466 [00:00<?, ? examples/s]"
      ]
     },
     "metadata": {},
     "output_type": "display_data"
    },
    {
     "data": {
      "application/vnd.jupyter.widget-view+json": {
       "model_id": "381cb71106e746828096a0fe1767b7d2",
       "version_major": 2,
       "version_minor": 0
      },
      "text/plain": [
       "Map:   0%|          | 0/5441 [00:00<?, ? examples/s]"
      ]
     },
     "metadata": {},
     "output_type": "display_data"
    },
    {
     "data": {
      "application/vnd.jupyter.widget-view+json": {
       "model_id": "729576754909461498fbaa85724c0c24",
       "version_major": 2,
       "version_minor": 0
      },
      "text/plain": [
       "Map:   0%|          | 0/5328 [00:00<?, ? examples/s]"
      ]
     },
     "metadata": {},
     "output_type": "display_data"
    }
   ],
   "source": [
    "import baseline_ds"
   ]
  },
  {
   "cell_type": "code",
   "execution_count": 2,
   "id": "40ebc338-7732-4a6c-b6bc-1b2b194d36fc",
   "metadata": {},
   "outputs": [],
   "source": [
    "import datasets"
   ]
  },
  {
   "cell_type": "code",
   "execution_count": 3,
   "id": "26c0cf18-3a0d-4206-82bc-fa14acbf6868",
   "metadata": {},
   "outputs": [],
   "source": [
    "def label_to_num(text,labels):\n",
    "    '''\n",
    "    This function reverse int class label back to strings.\n",
    "    '''\n",
    "    lablist=[]\n",
    "    for label,token in zip(labels,text):\n",
    "        if label == 'V':\n",
    "            label = '_'\n",
    "            pred = [token]\n",
    "        lablist.append(baseline_ds.label_dict[label])\n",
    "    dict = {'tokens':text, 'srl_arg_tags':lablist, 'pred':pred}\n",
    "    return dict"
   ]
  },
  {
   "cell_type": "code",
   "execution_count": 4,
   "id": "8560506a-a3eb-412e-a85f-3604f30ef8d3",
   "metadata": {},
   "outputs": [],
   "source": [
    "text = ['I','love','you','.']\n",
    "lab = ['ARG0','V','ARG1','_']\n",
    "\n",
    "text2 = ['I','hate','you','so','much','.']\n",
    "lab2 = ['ARG0','V','ARG1','_','_','_']"
   ]
  },
  {
   "cell_type": "code",
   "execution_count": 5,
   "id": "1520dc28-c164-4a6c-b14d-d463c4900fc2",
   "metadata": {},
   "outputs": [],
   "source": [
    "testcase = [label_to_num(text,lab),label_to_num(text2,lab2)]"
   ]
  },
  {
   "cell_type": "code",
   "execution_count": 6,
   "id": "fb29516e-4a68-4528-97a0-cb9fa1111466",
   "metadata": {},
   "outputs": [
    {
     "data": {
      "application/vnd.jupyter.widget-view+json": {
       "model_id": "2ba4121c1ca14173a1fe53b74dc65704",
       "version_major": 2,
       "version_minor": 0
      },
      "text/plain": [
       "Map:   0%|          | 0/2 [00:00<?, ? examples/s]"
      ]
     },
     "metadata": {},
     "output_type": "display_data"
    }
   ],
   "source": [
    "caseds = datasets.Dataset.from_list(testcase)\n",
    "tokenized_case = caseds.map(baseline_ds.tokenize_and_align_labels, batched=True)"
   ]
  },
  {
   "cell_type": "code",
   "execution_count": null,
   "id": "dde16fab-b2fd-4559-bfe9-63b14c22190b",
   "metadata": {},
   "outputs": [],
   "source": [
    "from transformers import BertConfig, BertModel, AutoModel, AutoTokenizer, BertForSequenceClassification, DataCollatorForTokenClassification, Trainer, AutoModelForTokenClassification\n",
    "tokenizer = AutoTokenizer.from_pretrained(\"bert-base-uncased\")"
   ]
  },
  {
   "cell_type": "code",
   "execution_count": 12,
   "id": "af1462dc-28f8-4bf1-9918-cd23bba420e7",
   "metadata": {},
   "outputs": [
    {
     "data": {
      "application/vnd.jupyter.widget-view+json": {
       "model_id": "d641fd6315cb4ba9add2b7932407fcb0",
       "version_major": 2,
       "version_minor": 0
      },
      "text/plain": [
       "config.json:   0%|          | 0.00/3.18k [00:00<?, ?B/s]"
      ]
     },
     "metadata": {},
     "output_type": "display_data"
    },
    {
     "data": {
      "application/vnd.jupyter.widget-view+json": {
       "model_id": "7cef2580f40f4a27b72c93cee6c76289",
       "version_major": 2,
       "version_minor": 0
      },
      "text/plain": [
       "model.safetensors:   0%|          | 0.00/436M [00:00<?, ?B/s]"
      ]
     },
     "metadata": {},
     "output_type": "display_data"
    }
   ],
   "source": [
    "from transformers import AutoModelForTokenClassification, Trainer, AutoTokenizer, DataCollatorForTokenClassification\n",
    "tokenizer = AutoTokenizer.from_pretrained(\"bert-base-uncased\")\n",
    "data_collator = DataCollatorForTokenClassification(tokenizer)\n",
    "\n",
    "model = AutoModelForTokenClassification.from_pretrained(\"dannashao/bert-base-uncased-finetuned-advanced-srl_arg\",num_labels=len(baseline_ds.label_dict),id2label=baseline_ds.label_dict_rev, label2id=baseline_ds.label_dict)\n",
    "base_trainer = Trainer(model,data_collator=data_collator,tokenizer=tokenizer)"
   ]
  },
  {
   "cell_type": "code",
   "execution_count": 14,
   "id": "3d9da923-cf83-45e8-b75d-efc9eac0d705",
   "metadata": {},
   "outputs": [
    {
     "data": {
      "text/html": [],
      "text/plain": [
       "<IPython.core.display.HTML object>"
      ]
     },
     "metadata": {},
     "output_type": "display_data"
    }
   ],
   "source": [
    "pred,lab,_ = base_trainer.predict(tokenized_case)"
   ]
  },
  {
   "cell_type": "code",
   "execution_count": 21,
   "id": "568cbefb-d587-4ce0-877f-6a9f8f74ae35",
   "metadata": {},
   "outputs": [],
   "source": [
    "import numpy as np\n",
    "def remove_and_reverse(predictions, labels):\n",
    "    pred = np.argmax(predictions, axis=2)\n",
    "    predlists, lablists = [],[]\n",
    "    for i in range(len(labels)):\n",
    "        preds, labs = [],[]\n",
    "        for j in range(len(labels[i])):\n",
    "            if labels[i][j] != -100:\n",
    "                preds.append(baseline_ds.label_dict_rev[pred[i][j]])\n",
    "                labs.append(baseline_ds.label_dict_rev[labels[i][j]])\n",
    "        preds.pop()\n",
    "        labs.pop()\n",
    "        predlists.append(preds)\n",
    "        lablists.append(labs)\n",
    "    return predlists, lablists"
   ]
  },
  {
   "cell_type": "code",
   "execution_count": 22,
   "id": "3ac46a46-5b8b-40be-8695-d1be50fa280f",
   "metadata": {},
   "outputs": [
    {
     "data": {
      "text/plain": [
       "([['ARG0', '_', 'ARG1', '_'], ['ARG0', '_', 'ARG1', '_', 'ARGM-EXT', '_']],\n",
       " [['ARG0', '_', 'ARG1', '_'], ['ARG0', '_', 'ARG1', '_', '_', '_']])"
      ]
     },
     "execution_count": 22,
     "metadata": {},
     "output_type": "execute_result"
    }
   ],
   "source": [
    "remove_and_reverse(pred, lab)"
   ]
  },
  {
   "cell_type": "code",
   "execution_count": null,
   "id": "6e768ad1-9968-4ba6-b891-f2e2975c2b43",
   "metadata": {},
   "outputs": [],
   "source": []
  }
 ],
 "metadata": {
  "kernelspec": {
   "display_name": "Python 3 (ipykernel)",
   "language": "python",
   "name": "python3"
  },
  "language_info": {
   "codemirror_mode": {
    "name": "ipython",
    "version": 3
   },
   "file_extension": ".py",
   "mimetype": "text/x-python",
   "name": "python",
   "nbconvert_exporter": "python",
   "pygments_lexer": "ipython3",
   "version": "3.10.12"
  }
 },
 "nbformat": 4,
 "nbformat_minor": 5
}
