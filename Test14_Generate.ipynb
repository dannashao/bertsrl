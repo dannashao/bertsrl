{
 "cells": [
  {
   "cell_type": "code",
   "execution_count": 1,
   "id": "e0dbad46-7c9b-4ee3-9a54-41f58cf26af5",
   "metadata": {},
   "outputs": [],
   "source": [
    "import checklist\n",
    "from checklist.editor import Editor"
   ]
  },
  {
   "cell_type": "markdown",
   "id": "277e42da-d51c-468b-add7-6f1aec3d95d6",
   "metadata": {},
   "source": [
    "## Prepositional phrase rearrangement"
   ]
  },
  {
   "cell_type": "code",
   "execution_count": 20,
   "id": "d07635ac-444a-48a5-93d8-2ad99dbcdcf1",
   "metadata": {},
   "outputs": [],
   "source": [
    "verb_s = ['runs','walks','sits','flies','sings','looks']\n",
    "verb_ed = ['ran','drove','sat','walked','looked']\n",
    "prep = ['on','in','about','through','beside','under','across']\n",
    "article = ['a','an','the']"
   ]
  },
  {
   "cell_type": "code",
   "execution_count": 21,
   "id": "d2efa22e-644b-42c4-b683-9963c6ef2aeb",
   "metadata": {},
   "outputs": [],
   "source": [
    "editor = Editor()"
   ]
  },
  {
   "cell_type": "code",
   "execution_count": 22,
   "id": "3ba1f802-fa5d-44c3-9578-2c63b399c1d6",
   "metadata": {},
   "outputs": [],
   "source": [
    "editor.add_lexicon('verb', verb_s+verb_ed)\n",
    "editor.add_lexicon('verb_s', verb_s)\n",
    "editor.add_lexicon('verb_ed', verb_ed)\n",
    "editor.add_lexicon('prep', prep)\n",
    "editor.add_lexicon('arti', article)"
   ]
  },
  {
   "cell_type": "code",
   "execution_count": 13,
   "id": "fc8c0fad-8a1a-4401-9155-c5d71494d688",
   "metadata": {},
   "outputs": [],
   "source": [
    "ret = editor.template('{male} {verb} {prep} {mask} {mask}.')"
   ]
  },
  {
   "cell_type": "code",
   "execution_count": 89,
   "id": "f89d6471-988c-4882-9eb1-931f1abbeb7e",
   "metadata": {},
   "outputs": [
    {
     "name": "stdout",
     "output_type": "stream",
     "text": [
      "['Tony walked beside a bridge.', 'Dave sits through a fence.', 'Carl flies beside the wall.', 'Edward flies about my shoulder.', 'Albert sits beside an angel.']\n"
     ]
    }
   ],
   "source": [
    "import random\n",
    "print(random.sample(ret.data,5))"
   ]
  },
  {
   "cell_type": "code",
   "execution_count": 24,
   "id": "981042cf-48a9-4455-b631-7915c9bb19a2",
   "metadata": {},
   "outputs": [],
   "source": [
    "ret2 = editor.template('{male} {verb} {prep} {arti} {mask}.')"
   ]
  },
  {
   "cell_type": "code",
   "execution_count": 87,
   "id": "9f4b52a1-66a7-47ae-a9f6-19ecf8b51600",
   "metadata": {},
   "outputs": [
    {
     "name": "stdout",
     "output_type": "stream",
     "text": [
      "['Bobby flies across an tree.', 'Donald walked under a angle.', 'Harold ran in a rainbow.', 'Chris looked in a tree.', 'Jonathan runs across the fence.']\n"
     ]
    }
   ],
   "source": [
    "print(random.sample(ret2.data,5))"
   ]
  },
  {
   "cell_type": "code",
   "execution_count": 26,
   "id": "682e8180-dfee-4438-8a0d-e46c9a39bb25",
   "metadata": {},
   "outputs": [
    {
     "data": {
      "text/plain": [
       "'Like'"
      ]
     },
     "execution_count": 26,
     "metadata": {},
     "output_type": "execute_result"
    }
   ],
   "source": [
    "'like'.capitalize()"
   ]
  },
  {
   "cell_type": "code",
   "execution_count": 85,
   "id": "7facf608-8c84-44dc-8fcc-284fd7f714e4",
   "metadata": {},
   "outputs": [],
   "source": [
    "def prepositional_rearrange(sentence, label=False):\n",
    "    if label == False:\n",
    "        words = sentence.split()\n",
    "    else:\n",
    "        words = sentence\n",
    "    newsent = []\n",
    "    newsent.append(words[2].capitalize())\n",
    "    newsent.extend([words[3],words[4],words[0],words[1]])\n",
    "    if label == False:\n",
    "        newsent.append('.')\n",
    "    else:\n",
    "        newsent.append('_')\n",
    "    return newsent"
   ]
  },
  {
   "cell_type": "code",
   "execution_count": 81,
   "id": "175a5eda-a7f2-41fe-aa82-2db086150be3",
   "metadata": {},
   "outputs": [
    {
     "data": {
      "text/plain": [
       "['In', 'a', 'tunnel', 'Anthony', 'walked', '.']"
      ]
     },
     "execution_count": 81,
     "metadata": {},
     "output_type": "execute_result"
    }
   ],
   "source": [
    "prepositional_rearrange('Anthony walked in a tunnel')"
   ]
  },
  {
   "cell_type": "code",
   "execution_count": 83,
   "id": "a857929c-53b3-4e67-af28-7485e3eb50b9",
   "metadata": {},
   "outputs": [],
   "source": [
    "arg = ['ARG0','V','_','_','ARGM-LOC','_']"
   ]
  },
  {
   "cell_type": "code",
   "execution_count": 86,
   "id": "13f89165-30ba-493c-9802-a3212083933a",
   "metadata": {},
   "outputs": [
    {
     "data": {
      "text/plain": [
       "['_', '_', 'ARGM-LOC', 'ARG0', 'V', '_']"
      ]
     },
     "execution_count": 86,
     "metadata": {},
     "output_type": "execute_result"
    }
   ],
   "source": [
    "prepositional_rearrange(arg,True)"
   ]
  },
  {
   "cell_type": "code",
   "execution_count": null,
   "id": "b6337897-1bb4-433b-8c41-697a3c4091f5",
   "metadata": {},
   "outputs": [],
   "source": []
  }
 ],
 "metadata": {
  "kernelspec": {
   "display_name": "Python 3 (ipykernel)",
   "language": "python",
   "name": "python3"
  },
  "language_info": {
   "codemirror_mode": {
    "name": "ipython",
    "version": 3
   },
   "file_extension": ".py",
   "mimetype": "text/x-python",
   "name": "python",
   "nbconvert_exporter": "python",
   "pygments_lexer": "ipython3",
   "version": "3.10.12"
  }
 },
 "nbformat": 4,
 "nbformat_minor": 5
}
