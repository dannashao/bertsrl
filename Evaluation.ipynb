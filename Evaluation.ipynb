{
 "cells": [
  {
   "cell_type": "markdown",
   "id": "b321e592-eac8-4848-8222-e57516f523f4",
   "metadata": {},
   "source": [
    "# Evaluating the SRL models"
   ]
  },
  {
   "cell_type": "code",
   "execution_count": 4,
   "id": "063d1f16-e486-416f-b0c2-5930def5e612",
   "metadata": {},
   "outputs": [],
   "source": [
    "import utils\n",
    "\n",
    "from transformers import AutoModelForTokenClassification, Trainer, AutoTokenizer, DataCollatorForTokenClassification\n",
    "tokenizer = AutoTokenizer.from_pretrained(\"bert-base-uncased\")\n",
    "data_collator = DataCollatorForTokenClassification(tokenizer)"
   ]
  },
  {
   "cell_type": "markdown",
   "id": "20bd9629-69d8-4cc6-9149-67261657cfbb",
   "metadata": {},
   "source": [
    "## Loading the two models"
   ]
  },
  {
   "cell_type": "code",
   "execution_count": 2,
   "id": "55fbb21e-c1d8-4ba4-bbb7-8660a1f431ac",
   "metadata": {},
   "outputs": [],
   "source": [
    "base_model = AutoModelForTokenClassification.from_pretrained(\"dannashao/bert-base-uncased-finetuned-srl_arg\",num_labels=len(utils.baseline_ds.label_dict),id2label=utils.baseline_ds.label_dict_rev, label2id=utils.baseline_ds.label_dict)\n",
    "base_trainer = Trainer(base_model,data_collator=data_collator,tokenizer=tokenizer)\n",
    "\n",
    "advanced_model = AutoModelForTokenClassification.from_pretrained(\"dannashao/bert-base-uncased-finetuned-advanced-srl_arg\",num_labels=len(utils.baseline_ds.label_dict),id2label=utils.baseline_ds.label_dict_rev, label2id=utils.baseline_ds.label_dict)\n",
    "advanced_trainer = Trainer(advanced_model,data_collator=data_collator,tokenizer=tokenizer)"
   ]
  },
  {
   "cell_type": "markdown",
   "id": "33dedb5e-e1cf-4763-bcea-2e2dde7c54a9",
   "metadata": {},
   "source": [
    "## A step by step demo using Test 6 and Baseline model"
   ]
  },
  {
   "cell_type": "markdown",
   "id": "fb064a90-fed1-4f16-92bb-4c87077118a1",
   "metadata": {},
   "source": [
    "- Creating tokenized dataset from the test file:"
   ]
  },
  {
   "cell_type": "code",
   "execution_count": 3,
   "id": "d9c60610-e59c-4117-a003-a59ab3d3593a",
   "metadata": {},
   "outputs": [
    {
     "data": {
      "application/vnd.jupyter.widget-view+json": {
       "model_id": "5fc3778148e8423286eb390813a07ed7",
       "version_major": 2,
       "version_minor": 0
      },
      "text/plain": [
       "Map:   0%|          | 0/19 [00:00<?, ? examples/s]"
      ]
     },
     "metadata": {},
     "output_type": "display_data"
    }
   ],
   "source": [
    "test_6_ds, test_6_text = utils.file_to_ds('./tests/6.txt')"
   ]
  },
  {
   "cell_type": "markdown",
   "id": "50ece8c5-b390-4575-b1a0-4c38be809023",
   "metadata": {},
   "source": [
    "- Making prediction using the basline model:"
   ]
  },
  {
   "cell_type": "code",
   "execution_count": 5,
   "id": "309104f1-8c9e-4e60-b7ad-5394759d2ef9",
   "metadata": {},
   "outputs": [
    {
     "data": {
      "text/html": [],
      "text/plain": [
       "<IPython.core.display.HTML object>"
      ]
     },
     "metadata": {},
     "output_type": "display_data"
    }
   ],
   "source": [
    "pred,lab,_ = base_trainer.predict(test_6_ds)"
   ]
  },
  {
   "cell_type": "markdown",
   "id": "881317f5-5880-490c-ac3d-07b1e198cb93",
   "metadata": {},
   "source": [
    "- Remove special tokens (-100) and reverse map int labels:"
   ]
  },
  {
   "cell_type": "code",
   "execution_count": 6,
   "id": "cd451fff-55c4-4f0d-b641-eeec4a2d04c0",
   "metadata": {
    "scrolled": true
   },
   "outputs": [],
   "source": [
    "pred, true = utils.remove_and_reverse(pred, lab)"
   ]
  },
  {
   "cell_type": "markdown",
   "id": "94c000b2-13e0-435e-bcad-b5760716ccf1",
   "metadata": {},
   "source": [
    "- Print the results and failure rate:"
   ]
  },
  {
   "cell_type": "code",
   "execution_count": 9,
   "id": "99d95b60-05e8-4a81-80d9-f949dc358536",
   "metadata": {
    "scrolled": true
   },
   "outputs": [
    {
     "name": "stdout",
     "output_type": "stream",
     "text": [
      "------Sentence  0 : Failure------\n",
      "Sent:  ['We', 'arrived', 'school', '.']\n",
      "Pred:  ['ARG1', '_', 'ARG4', '_']\n",
      "True:  ['ARG0', '_', 'ARG4', '_']\n",
      "\n",
      "------Sentence  1 : Success------\n",
      "Sent:  ['He', 'talked', 'with', 'Jim', '.']\n",
      "Pred:  ['ARG0', '_', '_', 'ARG2', '_']\n",
      "True:  ['ARG0', '_', '_', 'ARG2', '_']\n",
      "\n",
      "------Sentence  2 : Success------\n",
      "Sent:  ['He', 'talked', 'about', 'it', '.']\n",
      "Pred:  ['ARG0', '_', '_', 'ARG1', '_']\n",
      "True:  ['ARG0', '_', '_', 'ARG1', '_']\n",
      "\n",
      "------Sentence  3 : Failure------\n",
      "Sent:  ['The', 'plant', 'grows', 'quickly', '.']\n",
      "Pred:  ['_', 'ARG1', '_', 'ARGM-MNR', '_']\n",
      "True:  ['_', 'ARG0', '_', 'ARGM-MNR', '_']\n",
      "\n",
      "------Sentence  4 : Failure------\n",
      "Sent:  ['The', 'refugees', 'immigrated', 'to', 'Canada', '.']\n",
      "Pred:  ['_', 'ARG1', '_', '_', 'ARG4', '_']\n",
      "True:  ['_', 'ARG0', '_', '_', 'ARG4', '_']\n",
      "\n",
      "------Sentence  5 : Success------\n",
      "Sent:  ['They', 'eat', 'good', 'foods', '.']\n",
      "Pred:  ['ARG0', '_', '_', 'ARG1', '_']\n",
      "True:  ['ARG0', '_', '_', 'ARG1', '_']\n",
      "\n",
      "------Sentence  6 : Success------\n",
      "Sent:  ['The', 'boy', 'throws', 'the', 'ball', '.']\n",
      "Pred:  ['_', 'ARG0', '_', '_', 'ARG1', '_']\n",
      "True:  ['_', 'ARG0', '_', '_', 'ARG1', '_']\n",
      "\n",
      "------Sentence  7 : Success------\n",
      "Sent:  ['What', 'took', 'place', '?']\n",
      "Pred:  ['ARG1', '_', 'ARG2', '_']\n",
      "True:  ['ARG1', '_', 'ARG2', '_']\n",
      "\n",
      "------Sentence  8 : Success------\n",
      "Sent:  ['Take', 'her', 'to', 'the', 'vet', '.']\n",
      "Pred:  ['_', 'ARG1', '_', '_', 'ARG3', '_']\n",
      "True:  ['_', 'ARG1', '_', '_', 'ARG3', '_']\n",
      "\n",
      "------Sentence  9 : Success------\n",
      "Sent:  ['I', 'bought', 'my', 'ticket', '.']\n",
      "Pred:  ['ARG0', '_', '_', 'ARG1', '_']\n",
      "True:  ['ARG0', '_', '_', 'ARG1', '_']\n",
      "\n",
      "------Sentence  10 : Success------\n",
      "Sent:  ['They', 'paint', 'the', 'walls', '.']\n",
      "Pred:  ['ARG0', '_', '_', 'ARG1', '_']\n",
      "True:  ['ARG0', '_', '_', 'ARG1', '_']\n",
      "\n",
      "------Sentence  11 : Success------\n",
      "Sent:  ['The', 'company', 'gave', 'employees', 'a', 'holiday', '.']\n",
      "Pred:  ['_', 'ARG0', '_', 'ARG2', '_', 'ARG1', '_']\n",
      "True:  ['_', 'ARG0', '_', 'ARG2', '_', 'ARG1', '_']\n",
      "\n",
      "------Sentence  12 : Success------\n",
      "Sent:  ['I', 'sent', 'you', 'a', 'note', '.']\n",
      "Pred:  ['ARG0', '_', 'ARG2', '_', 'ARG1', '_']\n",
      "True:  ['ARG0', '_', 'ARG2', '_', 'ARG1', '_']\n",
      "\n",
      "------Sentence  13 : Success------\n",
      "Sent:  ['She', 'told', 'him', 'a', 'story', '.']\n",
      "Pred:  ['ARG0', '_', 'ARG2', '_', 'ARG1', '_']\n",
      "True:  ['ARG0', '_', 'ARG2', '_', 'ARG1', '_']\n",
      "\n",
      "------Sentence  14 : Success------\n",
      "Sent:  ['Tell', 'me', 'the', 'story', '.']\n",
      "Pred:  ['_', 'ARG2', '_', 'ARG1', '_']\n",
      "True:  ['_', 'ARG2', '_', 'ARG1', '_']\n",
      "\n",
      "------Sentence  15 : Success------\n",
      "Sent:  ['He', 'ask', 'me', 'a', 'favor', '.']\n",
      "Pred:  ['ARG0', '_', 'ARG2', '_', 'ARG1', '_']\n",
      "True:  ['ARG0', '_', 'ARG2', '_', 'ARG1', '_']\n",
      "\n",
      "------Sentence  16 : Success------\n",
      "Sent:  ['They', 'build', 'their', 'son', 'a', 'house', '.']\n",
      "Pred:  ['ARG0', '_', '_', 'ARG2', '_', 'ARG1', '_']\n",
      "True:  ['ARG0', '_', '_', 'ARG2', '_', 'ARG1', '_']\n",
      "\n",
      "------Sentence  17 : Failure------\n",
      "Sent:  ['I', 'bet', 'him', 'euros', 'on', 'the', 'horse', '.']\n",
      "Pred:  ['ARG0', '_', 'ARG2', 'ARG1', '_', '_', 'ARG3', '_']\n",
      "True:  ['ARG0', '_', 'ARG1', 'ARG2', '_', '_', 'ARG2', '_']\n",
      "\n",
      "------Sentence  18 : Failure------\n",
      "Sent:  ['He', 'beg', 'her', 'a', 'favor', 'for', 'a', 'kiss', '.']\n",
      "Pred:  ['ARG0', '_', 'ARG2', '_', 'ARG1', '_', '_', 'ARG3', '_']\n",
      "True:  ['ARG0', '_', 'ARG1', '_', 'ARG2', '_', '_', 'ARG2', '_']\n",
      "\n",
      "Failure rate:  0.2631578947368421\n"
     ]
    },
    {
     "data": {
      "text/plain": [
       "0.2631578947368421"
      ]
     },
     "execution_count": 9,
     "metadata": {},
     "output_type": "execute_result"
    }
   ],
   "source": [
    "utils.print_results(test_6_text, pred, true)"
   ]
  },
  {
   "cell_type": "markdown",
   "id": "6501ec20-09c8-4a7a-83aa-b4925c87f129",
   "metadata": {},
   "source": [
    "## Warp up and run all tests"
   ]
  },
  {
   "cell_type": "code",
   "execution_count": 10,
   "id": "2eb86a40-3eb7-4029-ad17-62c7fad44b83",
   "metadata": {},
   "outputs": [],
   "source": [
    "def do_test(path,trainer,print=False):\n",
    "    testds, test_text = utils.file_to_ds(path)\n",
    "    pred,lab,_ = trainer.predict(testds)\n",
    "    pred, true = utils.remove_and_reverse(pred, lab)\n",
    "    failrate = utils.calculate_failrate(test_text, pred, true)\n",
    "    if print==True:\n",
    "        utils.print_results(test_text, pred, true)"
   ]
  },
  {
   "cell_type": "code",
   "execution_count": 7,
   "id": "7357e224-e564-4e19-94f1-b8cfc92041a7",
   "metadata": {},
   "outputs": [],
   "source": [
    "paths = ['./tests/6.txt','./tests/8.txt','./tests/11.txt','./tests/14.txt','./tests/18.txt']"
   ]
  },
  {
   "cell_type": "code",
   "execution_count": 12,
   "id": "0cdb64ac-751a-45cb-8513-e4949bbec53e",
   "metadata": {},
   "outputs": [
    {
     "data": {
      "application/vnd.jupyter.widget-view+json": {
       "model_id": "12e60ca82c87489a9d71661d5c784856",
       "version_major": 2,
       "version_minor": 0
      },
      "text/plain": [
       "Map:   0%|          | 0/19 [00:00<?, ? examples/s]"
      ]
     },
     "metadata": {},
     "output_type": "display_data"
    },
    {
     "data": {
      "text/html": [],
      "text/plain": [
       "<IPython.core.display.HTML object>"
      ]
     },
     "metadata": {},
     "output_type": "display_data"
    },
    {
     "name": "stdout",
     "output_type": "stream",
     "text": [
      "Failure rate:  0.2631578947368421\n"
     ]
    },
    {
     "data": {
      "application/vnd.jupyter.widget-view+json": {
       "model_id": "08427200c2ad45ca89809d4b1ffd5dcb",
       "version_major": 2,
       "version_minor": 0
      },
      "text/plain": [
       "Map:   0%|          | 0/34 [00:00<?, ? examples/s]"
      ]
     },
     "metadata": {},
     "output_type": "display_data"
    },
    {
     "data": {
      "text/html": [],
      "text/plain": [
       "<IPython.core.display.HTML object>"
      ]
     },
     "metadata": {},
     "output_type": "display_data"
    },
    {
     "name": "stdout",
     "output_type": "stream",
     "text": [
      "Failure rate:  0.4117647058823529\n"
     ]
    },
    {
     "data": {
      "application/vnd.jupyter.widget-view+json": {
       "model_id": "fad48480ffa441e699961e4fe3920162",
       "version_major": 2,
       "version_minor": 0
      },
      "text/plain": [
       "Map:   0%|          | 0/17 [00:00<?, ? examples/s]"
      ]
     },
     "metadata": {},
     "output_type": "display_data"
    },
    {
     "data": {
      "text/html": [],
      "text/plain": [
       "<IPython.core.display.HTML object>"
      ]
     },
     "metadata": {},
     "output_type": "display_data"
    },
    {
     "name": "stdout",
     "output_type": "stream",
     "text": [
      "Failure rate:  0.23529411764705882\n"
     ]
    },
    {
     "data": {
      "application/vnd.jupyter.widget-view+json": {
       "model_id": "d943385054fb408ebab668ba0b8ac783",
       "version_major": 2,
       "version_minor": 0
      },
      "text/plain": [
       "Map:   0%|          | 0/33 [00:00<?, ? examples/s]"
      ]
     },
     "metadata": {},
     "output_type": "display_data"
    },
    {
     "data": {
      "text/html": [],
      "text/plain": [
       "<IPython.core.display.HTML object>"
      ]
     },
     "metadata": {},
     "output_type": "display_data"
    },
    {
     "name": "stdout",
     "output_type": "stream",
     "text": [
      "Failure rate:  0.5757575757575758\n"
     ]
    },
    {
     "data": {
      "application/vnd.jupyter.widget-view+json": {
       "model_id": "3aa04f225ab949c69330be101bc8cb18",
       "version_major": 2,
       "version_minor": 0
      },
      "text/plain": [
       "Map:   0%|          | 0/19 [00:00<?, ? examples/s]"
      ]
     },
     "metadata": {},
     "output_type": "display_data"
    },
    {
     "data": {
      "text/html": [],
      "text/plain": [
       "<IPython.core.display.HTML object>"
      ]
     },
     "metadata": {},
     "output_type": "display_data"
    },
    {
     "name": "stdout",
     "output_type": "stream",
     "text": [
      "Failure rate:  0.5263157894736842\n"
     ]
    }
   ],
   "source": [
    "for path in paths:\n",
    "    do_test(path,base_trainer)"
   ]
  },
  {
   "cell_type": "code",
   "execution_count": 11,
   "id": "0fb13e0d-a0be-4a26-a4e4-91d9d078d237",
   "metadata": {},
   "outputs": [
    {
     "data": {
      "application/vnd.jupyter.widget-view+json": {
       "model_id": "68afa3f6dade46cab2cd84474d943541",
       "version_major": 2,
       "version_minor": 0
      },
      "text/plain": [
       "Map:   0%|          | 0/19 [00:00<?, ? examples/s]"
      ]
     },
     "metadata": {},
     "output_type": "display_data"
    },
    {
     "data": {
      "text/html": [],
      "text/plain": [
       "<IPython.core.display.HTML object>"
      ]
     },
     "metadata": {},
     "output_type": "display_data"
    },
    {
     "name": "stdout",
     "output_type": "stream",
     "text": [
      "Failure rate:  0.2631578947368421\n"
     ]
    },
    {
     "data": {
      "application/vnd.jupyter.widget-view+json": {
       "model_id": "eebd38d5af5f45b9a71bc55b61c10224",
       "version_major": 2,
       "version_minor": 0
      },
      "text/plain": [
       "Map:   0%|          | 0/34 [00:00<?, ? examples/s]"
      ]
     },
     "metadata": {},
     "output_type": "display_data"
    },
    {
     "data": {
      "text/html": [],
      "text/plain": [
       "<IPython.core.display.HTML object>"
      ]
     },
     "metadata": {},
     "output_type": "display_data"
    },
    {
     "name": "stdout",
     "output_type": "stream",
     "text": [
      "Failure rate:  0.4117647058823529\n"
     ]
    },
    {
     "data": {
      "application/vnd.jupyter.widget-view+json": {
       "model_id": "9695542f029b484388ba19398e5187d8",
       "version_major": 2,
       "version_minor": 0
      },
      "text/plain": [
       "Map:   0%|          | 0/17 [00:00<?, ? examples/s]"
      ]
     },
     "metadata": {},
     "output_type": "display_data"
    },
    {
     "data": {
      "text/html": [],
      "text/plain": [
       "<IPython.core.display.HTML object>"
      ]
     },
     "metadata": {},
     "output_type": "display_data"
    },
    {
     "name": "stdout",
     "output_type": "stream",
     "text": [
      "Failure rate:  0.23529411764705882\n"
     ]
    },
    {
     "data": {
      "application/vnd.jupyter.widget-view+json": {
       "model_id": "641532b615e44a2aa0f9ff1a8e180dda",
       "version_major": 2,
       "version_minor": 0
      },
      "text/plain": [
       "Map:   0%|          | 0/33 [00:00<?, ? examples/s]"
      ]
     },
     "metadata": {},
     "output_type": "display_data"
    },
    {
     "data": {
      "text/html": [],
      "text/plain": [
       "<IPython.core.display.HTML object>"
      ]
     },
     "metadata": {},
     "output_type": "display_data"
    },
    {
     "name": "stdout",
     "output_type": "stream",
     "text": [
      "Failure rate:  0.5757575757575758\n"
     ]
    },
    {
     "data": {
      "application/vnd.jupyter.widget-view+json": {
       "model_id": "6d32490673f34969b6fb4ba947d1a337",
       "version_major": 2,
       "version_minor": 0
      },
      "text/plain": [
       "Map:   0%|          | 0/19 [00:00<?, ? examples/s]"
      ]
     },
     "metadata": {},
     "output_type": "display_data"
    },
    {
     "data": {
      "text/html": [],
      "text/plain": [
       "<IPython.core.display.HTML object>"
      ]
     },
     "metadata": {},
     "output_type": "display_data"
    },
    {
     "name": "stdout",
     "output_type": "stream",
     "text": [
      "Failure rate:  0.5263157894736842\n"
     ]
    }
   ],
   "source": [
    "for path in paths:\n",
    "    do_test(path,advanced_trainer)"
   ]
  },
  {
   "cell_type": "markdown",
   "id": "6b0882c8-7c81-4f2e-adb1-dd827464a65a",
   "metadata": {},
   "source": [
    "## Full results"
   ]
  },
  {
   "cell_type": "code",
   "execution_count": 13,
   "id": "36dfbb99-8476-4be8-8cad-4f066024fdb5",
   "metadata": {},
   "outputs": [
    {
     "data": {
      "application/vnd.jupyter.widget-view+json": {
       "model_id": "4b0876609c0240acaa8103635a98cb6a",
       "version_major": 2,
       "version_minor": 0
      },
      "text/plain": [
       "Map:   0%|          | 0/19 [00:00<?, ? examples/s]"
      ]
     },
     "metadata": {},
     "output_type": "display_data"
    },
    {
     "data": {
      "text/html": [],
      "text/plain": [
       "<IPython.core.display.HTML object>"
      ]
     },
     "metadata": {},
     "output_type": "display_data"
    },
    {
     "name": "stdout",
     "output_type": "stream",
     "text": [
      "Failure rate:  0.2631578947368421\n",
      "------Sentence  0 : Failure------\n",
      "Sent:  ['We', 'arrived', 'school', '.']\n",
      "Pred:  ['ARG1', '_', 'ARG4', '_']\n",
      "True:  ['ARG0', '_', 'ARG4', '_']\n",
      "\n",
      "------Sentence  1 : Success------\n",
      "Sent:  ['He', 'talked', 'with', 'Jim', '.']\n",
      "Pred:  ['ARG0', '_', '_', 'ARG2', '_']\n",
      "True:  ['ARG0', '_', '_', 'ARG2', '_']\n",
      "\n",
      "------Sentence  2 : Success------\n",
      "Sent:  ['He', 'talked', 'about', 'it', '.']\n",
      "Pred:  ['ARG0', '_', '_', 'ARG1', '_']\n",
      "True:  ['ARG0', '_', '_', 'ARG1', '_']\n",
      "\n",
      "------Sentence  3 : Failure------\n",
      "Sent:  ['The', 'plant', 'grows', 'quickly', '.']\n",
      "Pred:  ['_', 'ARG1', '_', 'ARGM-MNR', '_']\n",
      "True:  ['_', 'ARG0', '_', 'ARGM-MNR', '_']\n",
      "\n",
      "------Sentence  4 : Failure------\n",
      "Sent:  ['The', 'refugees', 'immigrated', 'to', 'Canada', '.']\n",
      "Pred:  ['_', 'ARG1', '_', '_', 'ARG4', '_']\n",
      "True:  ['_', 'ARG0', '_', '_', 'ARG4', '_']\n",
      "\n",
      "------Sentence  5 : Success------\n",
      "Sent:  ['They', 'eat', 'good', 'foods', '.']\n",
      "Pred:  ['ARG0', '_', '_', 'ARG1', '_']\n",
      "True:  ['ARG0', '_', '_', 'ARG1', '_']\n",
      "\n",
      "------Sentence  6 : Success------\n",
      "Sent:  ['The', 'boy', 'throws', 'the', 'ball', '.']\n",
      "Pred:  ['_', 'ARG0', '_', '_', 'ARG1', '_']\n",
      "True:  ['_', 'ARG0', '_', '_', 'ARG1', '_']\n",
      "\n",
      "------Sentence  7 : Success------\n",
      "Sent:  ['What', 'took', 'place', '?']\n",
      "Pred:  ['ARG1', '_', 'ARG2', '_']\n",
      "True:  ['ARG1', '_', 'ARG2', '_']\n",
      "\n",
      "------Sentence  8 : Success------\n",
      "Sent:  ['Take', 'her', 'to', 'the', 'vet', '.']\n",
      "Pred:  ['_', 'ARG1', '_', '_', 'ARG3', '_']\n",
      "True:  ['_', 'ARG1', '_', '_', 'ARG3', '_']\n",
      "\n",
      "------Sentence  9 : Success------\n",
      "Sent:  ['I', 'bought', 'my', 'ticket', '.']\n",
      "Pred:  ['ARG0', '_', '_', 'ARG1', '_']\n",
      "True:  ['ARG0', '_', '_', 'ARG1', '_']\n",
      "\n",
      "------Sentence  10 : Success------\n",
      "Sent:  ['They', 'paint', 'the', 'walls', '.']\n",
      "Pred:  ['ARG0', '_', '_', 'ARG1', '_']\n",
      "True:  ['ARG0', '_', '_', 'ARG1', '_']\n",
      "\n",
      "------Sentence  11 : Success------\n",
      "Sent:  ['The', 'company', 'gave', 'employees', 'a', 'holiday', '.']\n",
      "Pred:  ['_', 'ARG0', '_', 'ARG2', '_', 'ARG1', '_']\n",
      "True:  ['_', 'ARG0', '_', 'ARG2', '_', 'ARG1', '_']\n",
      "\n",
      "------Sentence  12 : Success------\n",
      "Sent:  ['I', 'sent', 'you', 'a', 'note', '.']\n",
      "Pred:  ['ARG0', '_', 'ARG2', '_', 'ARG1', '_']\n",
      "True:  ['ARG0', '_', 'ARG2', '_', 'ARG1', '_']\n",
      "\n",
      "------Sentence  13 : Success------\n",
      "Sent:  ['She', 'told', 'him', 'a', 'story', '.']\n",
      "Pred:  ['ARG0', '_', 'ARG2', '_', 'ARG1', '_']\n",
      "True:  ['ARG0', '_', 'ARG2', '_', 'ARG1', '_']\n",
      "\n",
      "------Sentence  14 : Success------\n",
      "Sent:  ['Tell', 'me', 'the', 'story', '.']\n",
      "Pred:  ['_', 'ARG2', '_', 'ARG1', '_']\n",
      "True:  ['_', 'ARG2', '_', 'ARG1', '_']\n",
      "\n",
      "------Sentence  15 : Success------\n",
      "Sent:  ['He', 'ask', 'me', 'a', 'favor', '.']\n",
      "Pred:  ['ARG0', '_', 'ARG2', '_', 'ARG1', '_']\n",
      "True:  ['ARG0', '_', 'ARG2', '_', 'ARG1', '_']\n",
      "\n",
      "------Sentence  16 : Success------\n",
      "Sent:  ['They', 'build', 'their', 'son', 'a', 'house', '.']\n",
      "Pred:  ['ARG0', '_', '_', 'ARG2', '_', 'ARG1', '_']\n",
      "True:  ['ARG0', '_', '_', 'ARG2', '_', 'ARG1', '_']\n",
      "\n",
      "------Sentence  17 : Failure------\n",
      "Sent:  ['I', 'bet', 'him', 'euros', 'on', 'the', 'horse', '.']\n",
      "Pred:  ['ARG0', '_', 'ARG2', 'ARG1', '_', '_', 'ARG3', '_']\n",
      "True:  ['ARG0', '_', 'ARG1', 'ARG2', '_', '_', 'ARG2', '_']\n",
      "\n",
      "------Sentence  18 : Failure------\n",
      "Sent:  ['He', 'beg', 'her', 'a', 'favor', 'for', 'a', 'kiss', '.']\n",
      "Pred:  ['ARG0', '_', 'ARG2', '_', 'ARG1', '_', '_', 'ARG3', '_']\n",
      "True:  ['ARG0', '_', 'ARG1', '_', 'ARG2', '_', '_', 'ARG2', '_']\n",
      "\n",
      "Failure rate:  0.2631578947368421\n"
     ]
    },
    {
     "data": {
      "application/vnd.jupyter.widget-view+json": {
       "model_id": "3fe2517632c94a749c4dc8b90b412e7e",
       "version_major": 2,
       "version_minor": 0
      },
      "text/plain": [
       "Map:   0%|          | 0/34 [00:00<?, ? examples/s]"
      ]
     },
     "metadata": {},
     "output_type": "display_data"
    },
    {
     "data": {
      "text/html": [],
      "text/plain": [
       "<IPython.core.display.HTML object>"
      ]
     },
     "metadata": {},
     "output_type": "display_data"
    },
    {
     "name": "stdout",
     "output_type": "stream",
     "text": [
      "Failure rate:  0.4117647058823529\n",
      "------Sentence  0 : Failure------\n",
      "Sent:  ['The', 'Sky', 'appears', 'blue', '.']\n",
      "Pred:  ['_', 'ARG1', '_', 'ARGM-PRD', '_']\n",
      "True:  ['_', 'ARG1', '_', 'C-ARG1', '_']\n",
      "\n",
      "------Sentence  1 : Success------\n",
      "Sent:  ['They', 'are', 'happy', '.']\n",
      "Pred:  ['ARG1', '_', 'ARG2', '_']\n",
      "True:  ['ARG1', '_', 'ARG2', '_']\n",
      "\n",
      "------Sentence  2 : Failure------\n",
      "Sent:  ['The', 'book', 'seems', 'interesting', '.']\n",
      "Pred:  ['_', 'ARG1', '_', 'ARG1', '_']\n",
      "True:  ['_', 'ARG1', '_', 'C-ARG1', '_']\n",
      "\n",
      "------Sentence  3 : Failure------\n",
      "Sent:  ['She', 'appears', 'confused', '.']\n",
      "Pred:  ['ARG1', '_', 'ARGM-ADV', '_']\n",
      "True:  ['ARG1', '_', 'C-ARG1', '_']\n",
      "\n",
      "------Sentence  4 : Success------\n",
      "Sent:  ['The', 'dog', 'is', 'playful', '.']\n",
      "Pred:  ['_', 'ARG1', '_', 'ARG2', '_']\n",
      "True:  ['_', 'ARG1', '_', 'ARG2', '_']\n",
      "\n",
      "------Sentence  5 : Success------\n",
      "Sent:  ['He', 'seems', 'relaxed', '.']\n",
      "Pred:  ['ARG1', '_', 'C-ARG1', '_']\n",
      "True:  ['ARG1', '_', 'C-ARG1', '_']\n",
      "\n",
      "------Sentence  6 : Success------\n",
      "Sent:  ['The', 'flowers', 'are', 'beautiful', '.']\n",
      "Pred:  ['_', 'ARG1', '_', 'ARG2', '_']\n",
      "True:  ['_', 'ARG1', '_', 'ARG2', '_']\n",
      "\n",
      "------Sentence  7 : Failure------\n",
      "Sent:  ['It', 'seems', 'dark', 'outside', '.']\n",
      "Pred:  ['_', '_', 'ARG1', 'ARGM-LOC', '_']\n",
      "True:  ['_', '_', 'C-ARG1', 'ARG1', '_']\n",
      "\n",
      "------Sentence  8 : Success------\n",
      "Sent:  ['The', 'movie', 'was', 'boring', '.']\n",
      "Pred:  ['_', 'ARG1', '_', 'ARG2', '_']\n",
      "True:  ['_', 'ARG1', '_', 'ARG2', '_']\n",
      "\n",
      "------Sentence  9 : Success------\n",
      "Sent:  ['The', 'cake', 'looks', 'delicious', '.']\n",
      "Pred:  ['_', 'ARG0', '_', 'ARG1', '_']\n",
      "True:  ['_', 'ARG0', '_', 'ARG1', '_']\n",
      "\n",
      "------Sentence  10 : Failure------\n",
      "Sent:  ['She', 'painted', 'the', 'room', 'yellow', '.']\n",
      "Pred:  ['ARG0', '_', '_', 'ARG1', 'ARGM-MNR', '_']\n",
      "True:  ['ARG0', '_', '_', 'ARG1', 'ARG1', '_']\n",
      "\n",
      "------Sentence  11 : Success------\n",
      "Sent:  ['They', 'considered', 'the', 'idea', 'brilliant', '.']\n",
      "Pred:  ['ARG0', '_', '_', 'ARG1', 'ARG1', '_']\n",
      "True:  ['ARG0', '_', '_', 'ARG1', 'ARG1', '_']\n",
      "\n",
      "------Sentence  12 : Success------\n",
      "Sent:  ['He', 'found', 'the', 'food', 'delicious', '.']\n",
      "Pred:  ['ARG0', '_', '_', 'ARG1', 'ARG1', '_']\n",
      "True:  ['ARG0', '_', '_', 'ARG1', 'ARG1', '_']\n",
      "\n",
      "------Sentence  13 : Success------\n",
      "Sent:  ['We', 'deemed', 'the', 'movie', 'boring', '.']\n",
      "Pred:  ['ARG0', '_', '_', 'ARG1', 'ARG1', '_']\n",
      "True:  ['ARG0', '_', '_', 'ARG1', 'ARG1', '_']\n",
      "\n",
      "------Sentence  14 : Success------\n",
      "Sent:  ['She', 'declared', 'him', 'innocent', '.']\n",
      "Pred:  ['ARG0', '_', 'ARG1', 'ARG1', '_']\n",
      "True:  ['ARG0', '_', 'ARG1', 'ARG1', '_']\n",
      "\n",
      "------Sentence  15 : Failure------\n",
      "Sent:  ['He', 'thought', 'the', 'decision', 'unfair', '.']\n",
      "Pred:  ['ARG0', '_', '_', '_', 'ARG1', '_']\n",
      "True:  ['ARG0', '_', '_', 'ARG1', 'ARG1', '_']\n",
      "\n",
      "------Sentence  16 : Failure------\n",
      "Sent:  ['They', 'elected', 'her', 'president', '.']\n",
      "Pred:  ['ARG0', '_', '_', 'ARG1', '_']\n",
      "True:  ['ARG0', '_', 'ARG1', 'ARG1', '_']\n",
      "\n",
      "------Sentence  17 : Success------\n",
      "Sent:  ['I', 'judged', 'the', 'task', 'difficult', '.']\n",
      "Pred:  ['ARG0', '_', '_', 'ARG1', 'ARG1', '_']\n",
      "True:  ['ARG0', '_', '_', 'ARG1', 'ARG1', '_']\n",
      "\n",
      "------Sentence  18 : Success------\n",
      "Sent:  ['We', 'deemed', 'the', 'movie', 'boring', '.']\n",
      "Pred:  ['ARG0', '_', '_', 'ARG1', 'ARG1', '_']\n",
      "True:  ['ARG0', '_', '_', 'ARG1', 'ARG1', '_']\n",
      "\n",
      "------Sentence  19 : Failure------\n",
      "Sent:  ['He', 'proclaimed', 'the', 'speech', 'inspiring', '.']\n",
      "Pred:  ['ARG0', '_', '_', 'ARG1', 'C-ARG1', '_']\n",
      "True:  ['ARG0', '_', '_', 'ARG1', 'ARG1', '_']\n",
      "\n",
      "------Sentence  20 : Success------\n",
      "Sent:  ['The', 'brave', 'protect', 'the', 'weak', '.']\n",
      "Pred:  ['_', 'ARG0', '_', '_', 'ARG1', '_']\n",
      "True:  ['_', 'ARG0', '_', '_', 'ARG1', '_']\n",
      "\n",
      "------Sentence  21 : Failure------\n",
      "Sent:  ['The', 'beautiful', 'inspire', 'artists', '.']\n",
      "Pred:  ['_', 'ARGM-ADJ', '_', '_', '_']\n",
      "True:  ['_', 'ARG0', '_', 'ARG1', '_']\n",
      "\n",
      "------Sentence  22 : Failure------\n",
      "Sent:  ['The', 'old', 'cherish', 'memories', '.']\n",
      "Pred:  ['_', 'ARGM-TMP', '_', '_', '_', '_', '_']\n",
      "True:  ['_', 'ARG0', '_', '_', 'ARG1', '_', '_']\n",
      "\n",
      "------Sentence  23 : Failure------\n",
      "Sent:  ['The', 'strong', 'support', 'the', 'vulnerable', '.']\n",
      "Pred:  ['_', 'ARGM-ADJ', '_', '_', 'ARG1', '_']\n",
      "True:  ['_', 'ARG0', '_', '_', 'ARG1', '_']\n",
      "\n",
      "------Sentence  24 : Failure------\n",
      "Sent:  ['The', 'wise', 'guide', 'the', 'ignorant', '.']\n",
      "Pred:  ['_', 'ARGM-ADJ', '_', '_', 'ARG2', '_']\n",
      "True:  ['_', 'ARG0', '_', '_', 'ARG1', '_']\n",
      "\n",
      "------Sentence  25 : Failure------\n",
      "Sent:  ['The', 'kind', 'help', 'those', 'in', 'need', '.']\n",
      "Pred:  ['_', 'ARG0', '_', 'ARG2', '_', '_', '_']\n",
      "True:  ['_', 'ARG0', '_', 'ARG1', '_', '_', '_']\n",
      "\n",
      "------Sentence  26 : Success------\n",
      "Sent:  ['The', 'young', 'dream', 'big', '.']\n",
      "Pred:  ['_', 'ARG0', '_', 'ARGM-MNR', '_']\n",
      "True:  ['_', 'ARG0', '_', 'ARGM-MNR', '_']\n",
      "\n",
      "------Sentence  27 : Success------\n",
      "Sent:  ['The', 'patient', 'endure', 'hardships', '.']\n",
      "Pred:  ['_', 'ARG0', '_', 'ARG1', 'ARG1', '_']\n",
      "True:  ['_', 'ARG0', '_', 'ARG1', 'ARG1', '_']\n",
      "\n",
      "------Sentence  28 : Failure------\n",
      "Sent:  ['The', 'talented', 'impress', 'audiences', '.']\n",
      "Pred:  ['_', 'ARG0', '_', 'ARG2', '_']\n",
      "True:  ['_', 'ARG0', '_', 'ARG1', '_']\n",
      "\n",
      "------Sentence  29 : Success------\n",
      "Sent:  ['The', 'generous', 'donate', 'to', 'charities', '.']\n",
      "Pred:  ['_', 'ARG0', '_', '_', 'ARG2', '_']\n",
      "True:  ['_', 'ARG0', '_', '_', 'ARG2', '_']\n",
      "\n",
      "------Sentence  30 : Success------\n",
      "Sent:  ['The', 'fastest', 'won', 'the', 'race', '.']\n",
      "Pred:  ['_', 'ARG0', '_', '_', 'ARG1', '_']\n",
      "True:  ['_', 'ARG0', '_', '_', 'ARG1', '_']\n",
      "\n",
      "------Sentence  31 : Success------\n",
      "Sent:  ['The', 'tallest', 'reached', 'the', 'top', 'shelf', '.']\n",
      "Pred:  ['_', 'ARG0', '_', '_', '_', 'ARG1', '_']\n",
      "True:  ['_', 'ARG0', '_', '_', '_', 'ARG1', '_']\n",
      "\n",
      "------Sentence  32 : Success------\n",
      "Sent:  ['The', 'brightest', 'aced', 'the', 'exam', '.']\n",
      "Pred:  ['_', 'ARG0', '_', '_', '_', 'ARG1', '_', '_']\n",
      "True:  ['_', 'ARG0', '_', '_', '_', 'ARG1', '_', '_']\n",
      "\n",
      "------Sentence  33 : Success------\n",
      "Sent:  ['The', 'most', 'intelligent', 'solved', 'the', 'puzzle', '.']\n",
      "Pred:  ['_', '_', 'ARG0', '_', '_', 'ARG1', '_']\n",
      "True:  ['_', '_', 'ARG0', '_', '_', 'ARG1', '_']\n",
      "\n",
      "Failure rate:  0.4117647058823529\n"
     ]
    },
    {
     "data": {
      "application/vnd.jupyter.widget-view+json": {
       "model_id": "08d14c628e1a471ea78dabe366fb6529",
       "version_major": 2,
       "version_minor": 0
      },
      "text/plain": [
       "Map:   0%|          | 0/17 [00:00<?, ? examples/s]"
      ]
     },
     "metadata": {},
     "output_type": "display_data"
    },
    {
     "data": {
      "text/html": [],
      "text/plain": [
       "<IPython.core.display.HTML object>"
      ]
     },
     "metadata": {},
     "output_type": "display_data"
    },
    {
     "name": "stdout",
     "output_type": "stream",
     "text": [
      "Failure rate:  0.23529411764705882\n",
      "------Sentence  0 : Success------\n",
      "Sent:  ['It', 'happened', 'at', 'the', 'White', 'House', '.']\n",
      "Pred:  ['ARG1', '_', '_', '_', '_', 'ARGM-LOC', '_']\n",
      "True:  ['ARG1', '_', '_', '_', '_', 'ARGM-LOC', '_']\n",
      "\n",
      "------Sentence  1 : Success------\n",
      "Sent:  ['It', 'happened', 'in', 'the', 'WW2', '.']\n",
      "Pred:  ['ARG1', '_', '_', '_', 'ARGM-TMP', 'ARGM-TMP', 'ARGM-TMP', '_']\n",
      "True:  ['ARG1', '_', '_', '_', 'ARGM-TMP', 'ARGM-TMP', 'ARGM-TMP', '_']\n",
      "\n",
      "------Sentence  2 : Success------\n",
      "Sent:  ['It', 'happened', 'near', 'the', 'Middle', 'Ages', '.']\n",
      "Pred:  ['ARG1', '_', '_', '_', '_', 'ARGM-TMP', '_']\n",
      "True:  ['ARG1', '_', '_', '_', '_', 'ARGM-TMP', '_']\n",
      "\n",
      "------Sentence  3 : Failure------\n",
      "Sent:  ['It', 'happened', 'in', 'near', 'Statue', 'of', 'Liberty', '.']\n",
      "Pred:  ['ARG1', '_', '_', '_', 'ARGM-LOC', '_', '_', '_']\n",
      "True:  ['ARG1', '_', '_', '_', '_', '_', 'ARGM-LOC', '_']\n",
      "\n",
      "------Sentence  4 : Success------\n",
      "Sent:  ['It', 'happened', 'in', 'the', '20th', 'century', '.']\n",
      "Pred:  ['ARG1', '_', '_', '_', '_', 'ARGM-TMP', '_']\n",
      "True:  ['ARG1', '_', '_', '_', '_', 'ARGM-TMP', '_']\n",
      "\n",
      "------Sentence  5 : Success------\n",
      "Sent:  ['It', 'happened', 'on', 'the', 'Red', 'Square', '.']\n",
      "Pred:  ['ARG1', '_', '_', '_', '_', 'ARGM-LOC', '_']\n",
      "True:  ['ARG1', '_', '_', '_', '_', 'ARGM-LOC', '_']\n",
      "\n",
      "------Sentence  6 : Success------\n",
      "Sent:  ['It', 'happened', 'on', 'the', 'Christmas', 'Eve', '.']\n",
      "Pred:  ['ARG1', '_', '_', '_', '_', 'ARGM-TMP', '_']\n",
      "True:  ['ARG1', '_', '_', '_', '_', 'ARGM-TMP', '_']\n",
      "\n",
      "------Sentence  7 : Success------\n",
      "Sent:  ['It', 'happened', 'at', 'the', 'Spring', 'Festival', '.']\n",
      "Pred:  ['ARG1', '_', '_', '_', '_', 'ARGM-TMP', '_']\n",
      "True:  ['ARG1', '_', '_', '_', '_', 'ARGM-TMP', '_']\n",
      "\n",
      "------Sentence  8 : Success------\n",
      "Sent:  ['It', 'happened', 'at', 'the', 'Crystal', 'Palace', '.']\n",
      "Pred:  ['ARG1', '_', '_', '_', '_', 'ARGM-LOC', '_']\n",
      "True:  ['ARG1', '_', '_', '_', '_', 'ARGM-LOC', '_']\n",
      "\n",
      "------Sentence  9 : Success------\n",
      "Sent:  ['It', 'happened', 'in', 'the', 'Black', 'Forest', '.']\n",
      "Pred:  ['ARG1', '_', '_', '_', '_', 'ARGM-LOC', '_']\n",
      "True:  ['ARG1', '_', '_', '_', '_', 'ARGM-LOC', '_']\n",
      "\n",
      "------Sentence  10 : Success------\n",
      "Sent:  ['It', 'happened', 'in', 'the', 'Ramadan', '.']\n",
      "Pred:  ['ARG1', '_', '_', '_', 'ARGM-TMP', 'ARGM-TMP', '_']\n",
      "True:  ['ARG1', '_', '_', '_', 'ARGM-TMP', 'ARGM-TMP', '_']\n",
      "\n",
      "------Sentence  11 : Failure------\n",
      "Sent:  ['It', 'happened', 'in', 'the', 'Carnival', '.']\n",
      "Pred:  ['ARG1', '_', '_', '_', 'ARGM-LOC', '_']\n",
      "True:  ['ARG1', '_', '_', '_', 'ARGM-TMP', '_']\n",
      "\n",
      "------Sentence  12 : Success------\n",
      "Sent:  ['It', 'happened', 'in', 'the', 'Advent', '.']\n",
      "Pred:  ['ARG1', '_', '_', '_', 'ARGM-TMP', '_']\n",
      "True:  ['ARG1', '_', '_', '_', 'ARGM-TMP', '_']\n",
      "\n",
      "------Sentence  13 : Success------\n",
      "Sent:  ['It', 'happened', 'on', 'the', 'Wall', 'Street', '.']\n",
      "Pred:  ['ARG1', '_', '_', '_', '_', 'ARGM-LOC', '_']\n",
      "True:  ['ARG1', '_', '_', '_', '_', 'ARGM-LOC', '_']\n",
      "\n",
      "------Sentence  14 : Failure------\n",
      "Sent:  ['It', 'happened', 'across', 'the', 'Renaissance', '.']\n",
      "Pred:  ['ARG1', '_', '_', '_', 'ARGM-LOC', '_']\n",
      "True:  ['ARG1', '_', '_', '_', 'ARGM-TMP', '_']\n",
      "\n",
      "------Sentence  15 : Success------\n",
      "Sent:  ['It', 'happened', 'across', 'the', 'Atlantic', 'Ocean', '.']\n",
      "Pred:  ['ARG1', '_', '_', '_', '_', 'ARGM-LOC', '_']\n",
      "True:  ['ARG1', '_', '_', '_', '_', 'ARGM-LOC', '_']\n",
      "\n",
      "------Sentence  16 : Failure------\n",
      "Sent:  ['It', 'happened', 'at', 'the', 'Great', 'Depression', '.']\n",
      "Pred:  ['ARG1', '_', '_', '_', '_', 'ARGM-LOC', '_']\n",
      "True:  ['ARG1', '_', '_', '_', '_', 'ARGM-TMP', '_']\n",
      "\n",
      "Failure rate:  0.23529411764705882\n"
     ]
    },
    {
     "data": {
      "application/vnd.jupyter.widget-view+json": {
       "model_id": "52183d094cbe40b7ac522eda0b33cd64",
       "version_major": 2,
       "version_minor": 0
      },
      "text/plain": [
       "Map:   0%|          | 0/33 [00:00<?, ? examples/s]"
      ]
     },
     "metadata": {},
     "output_type": "display_data"
    },
    {
     "data": {
      "text/html": [],
      "text/plain": [
       "<IPython.core.display.HTML object>"
      ]
     },
     "metadata": {},
     "output_type": "display_data"
    },
    {
     "name": "stdout",
     "output_type": "stream",
     "text": [
      "Failure rate:  0.5757575757575758\n",
      "------Sentence  0 : Failure------\n",
      "Sent:  ['The', 'cat', 'sat', 'on', 'the', 'mat', '.']\n",
      "Pred:  ['_', 'ARG1', '_', '_', '_', 'ARG2', '_']\n",
      "True:  ['_', 'ARG0', '_', '_', '_', 'ARGM-LOC', '_']\n",
      "\n",
      "------Sentence  1 : Failure------\n",
      "Sent:  ['On', 'the', 'mat', 'sat', 'the', 'cat', '.']\n",
      "Pred:  ['_', '_', 'ARGM-LOC', '_', '_', 'ARG1', '_']\n",
      "True:  ['_', '_', 'ARGM-LOC', '_', '_', 'ARG0', '_']\n",
      "\n",
      "------Sentence  2 : Success------\n",
      "Sent:  ['The', 'children', 'played', 'in', 'the', 'garden', '.']\n",
      "Pred:  ['_', 'ARG0', '_', '_', '_', 'ARGM-LOC', '_']\n",
      "True:  ['_', 'ARG0', '_', '_', '_', 'ARGM-LOC', '_']\n",
      "\n",
      "------Sentence  3 : Failure------\n",
      "Sent:  ['In', 'the', 'mgarden', 'played', 'the', 'children', '.']\n",
      "Pred:  ['_', '_', 'ARG2', 'ARGM-LOC', 'ARG2', '_', '_', 'ARG1', '_']\n",
      "True:  ['_', '_', 'ARGM-LOC', 'ARGM-LOC', 'ARGM-LOC', '_', '_', 'ARG0', '_']\n",
      "\n",
      "------Sentence  4 : Failure------\n",
      "Sent:  ['She', 'walked', 'along', 'the', 'beach', '.']\n",
      "Pred:  ['ARG0', '_', '_', '_', 'ARG2', '_']\n",
      "True:  ['ARG0', '_', '_', '_', 'ARGM-LOC', '_']\n",
      "\n",
      "------Sentence  5 : Failure------\n",
      "Sent:  ['Along', 'the', 'beach', 'walked', 'she', '.']\n",
      "Pred:  ['_', '_', 'ARGM-LOC', '_', 'ARG1', '_']\n",
      "True:  ['_', '_', 'ARGM-LOC', '_', 'ARG0', '_']\n",
      "\n",
      "------Sentence  6 : Failure------\n",
      "Sent:  ['He', 'sat', 'under', 'the', 'tree', '.']\n",
      "Pred:  ['ARG1', '_', '_', '_', 'ARG2', '_']\n",
      "True:  ['ARG0', '_', '_', '_', 'ARGM-LOC', '_']\n",
      "\n",
      "------Sentence  7 : Failure------\n",
      "Sent:  ['Under', 'the', 'tree', 'sat', 'he', '.']\n",
      "Pred:  ['_', '_', 'ARGM-LOC', '_', 'ARG1', '_']\n",
      "True:  ['_', '_', 'ARGM-LOC', '_', 'ARG0', '_']\n",
      "\n",
      "------Sentence  8 : Success------\n",
      "Sent:  ['Mary', 'danced', 'around', 'the', 'room', '.']\n",
      "Pred:  ['ARG0', '_', '_', '_', 'ARGM-LOC', '_']\n",
      "True:  ['ARG0', '_', '_', '_', 'ARGM-LOC', '_']\n",
      "\n",
      "------Sentence  9 : Failure------\n",
      "Sent:  ['Around', 'the', 'room', 'danced', 'Mary', '.']\n",
      "Pred:  ['_', '_', 'ARGM-LOC', '_', 'ARG1', '_']\n",
      "True:  ['_', '_', 'ARGM-LOC', '_', 'ARG0', '_']\n",
      "\n",
      "------Sentence  10 : Failure------\n",
      "Sent:  ['The', 'car', 'drove', 'across', 'the', 'bridge', '.']\n",
      "Pred:  ['_', 'ARG0', '_', '_', '_', 'ARGM-DIR', '_']\n",
      "True:  ['_', 'ARG0', '_', '_', '_', 'ARGM-LOC', '_']\n",
      "\n",
      "------Sentence  11 : Failure------\n",
      "Sent:  ['Across', 'the', 'bridge', 'drove', 'the', 'car', '.']\n",
      "Pred:  ['_', '_', 'ARGM-LOC', '_', '_', 'ARG1', '_']\n",
      "True:  ['_', '_', 'ARGM-LOC', '_', '_', 'ARG0', '_']\n",
      "\n",
      "------Sentence  12 : Failure------\n",
      "Sent:  ['The', 'birds', 'flew', 'over', 'the', 'mountains', '.']\n",
      "Pred:  ['_', 'ARG0', '_', '_', '_', 'ARGM-DIR', '_']\n",
      "True:  ['_', 'ARG0', '_', '_', '_', 'ARGM-LOC', '_']\n",
      "\n",
      "------Sentence  13 : Failure------\n",
      "Sent:  ['Over', 'the', 'mountains', 'flew', 'the', 'birds', '.']\n",
      "Pred:  ['_', '_', 'ARGM-LOC', '_', '_', 'ARG1', '_']\n",
      "True:  ['_', '_', 'ARGM-LOC', '_', '_', 'ARG0', '_']\n",
      "\n",
      "------Sentence  14 : Failure------\n",
      "Sent:  ['The', 'boat', 'sailed', 'around', 'the', 'island', '.']\n",
      "Pred:  ['_', 'ARG0', '_', '_', '_', 'ARGM-DIR', '_']\n",
      "True:  ['_', 'ARG0', '_', '_', '_', 'ARGM-LOC', '_']\n",
      "\n",
      "------Sentence  15 : Failure------\n",
      "Sent:  ['Around', 'the', 'island', 'sailed', 'the', 'boat', '.']\n",
      "Pred:  ['_', '_', 'ARGM-LOC', '_', '_', 'ARG1', '_']\n",
      "True:  ['_', '_', 'ARGM-LOC', '_', '_', 'ARG0', '_']\n",
      "\n",
      "------Sentence  16 : Failure------\n",
      "Sent:  ['The', 'sun', 'sets', 'behind', 'the', 'mountains', '.']\n",
      "Pred:  ['_', 'ARG1', '_', '_', '_', 'ARGM-LOC', '_']\n",
      "True:  ['_', 'ARG0', '_', '_', '_', 'ARGM-LOC', '_']\n",
      "\n",
      "------Sentence  17 : Failure------\n",
      "Sent:  ['Behind', 'the', 'mountains', 'sets', 'the', 'sun', '.']\n",
      "Pred:  ['_', '_', 'ARGM-LOC', '_', '_', 'ARG1', '_']\n",
      "True:  ['_', '_', 'ARGM-LOC', '_', '_', 'ARG0', '_']\n",
      "\n",
      "------Sentence  18 : Failure------\n",
      "Sent:  ['John', 'waited', 'at', 'the', 'station', '.']\n",
      "Pred:  ['ARG1', '_', '_', '_', 'ARGM-LOC', '_']\n",
      "True:  ['ARG0', '_', '_', '_', 'ARGM-LOC', '_']\n",
      "\n",
      "------Sentence  19 : Failure------\n",
      "Sent:  ['At', 'the', 'station', 'waited', 'John', '.']\n",
      "Pred:  ['_', '_', 'ARGM-LOC', '_', 'ARG1', '_']\n",
      "True:  ['_', '_', 'ARGM-LOC', '_', 'ARG0', '_']\n",
      "\n",
      "------Sentence  20 : Success------\n",
      "Sent:  ['He', 'runs', 'quickly', '.']\n",
      "Pred:  ['ARG0', '_', 'ARGM-MNR', '_']\n",
      "True:  ['ARG0', '_', 'ARGM-MNR', '_']\n",
      "\n",
      "------Sentence  21 : Success------\n",
      "Sent:  ['Quickly', ',', 'he', 'runs', '.']\n",
      "Pred:  ['ARGM-MNR', '_', 'ARG0', '_', '_']\n",
      "True:  ['ARGM-MNR', '_', 'ARG0', '_', '_']\n",
      "\n",
      "------Sentence  22 : Success------\n",
      "Sent:  ['They', 'dance', 'gracefully', '.']\n",
      "Pred:  ['ARG0', '_', 'ARGM-MNR', '_']\n",
      "True:  ['ARG0', '_', 'ARGM-MNR', '_']\n",
      "\n",
      "------Sentence  23 : Success------\n",
      "Sent:  ['Gracefully', ',', 'they', 'dance', '.']\n",
      "Pred:  ['ARGM-MNR', '_', 'ARG0', '_', '_']\n",
      "True:  ['ARGM-MNR', '_', 'ARG0', '_', '_']\n",
      "\n",
      "------Sentence  24 : Success------\n",
      "Sent:  ['The', 'dog', 'barks', 'loudly', '.']\n",
      "Pred:  ['_', 'ARG0', '_', '_', 'ARGM-MNR', '_', '_']\n",
      "True:  ['_', 'ARG0', '_', '_', 'ARGM-MNR', '_', '_']\n",
      "\n",
      "------Sentence  25 : Failure------\n",
      "Sent:  ['Loudly', ',', 'the', 'dog', 'barks', '.']\n",
      "Pred:  ['ARGM-MNR', '_', '_', 'ARG0', '_', '_', '_', 'ARGM-ADV']\n",
      "True:  ['ARGM-MNR', '_', '_', 'ARG0', '_', '_', '_', 'ARGM-MNR']\n",
      "\n",
      "------Sentence  26 : Success------\n",
      "Sent:  ['Sarah', 'writes', 'neatly', '.']\n",
      "Pred:  ['ARG0', '_', 'ARGM-MNR', '_']\n",
      "True:  ['ARG0', '_', 'ARGM-MNR', '_']\n",
      "\n",
      "------Sentence  27 : Success------\n",
      "Sent:  ['Neatly', ',', 'Sarah', 'writes', '.']\n",
      "Pred:  ['ARGM-MNR', '_', 'ARG0', '_', '_']\n",
      "True:  ['ARGM-MNR', '_', 'ARG0', '_', '_']\n",
      "\n",
      "------Sentence  28 : Success------\n",
      "Sent:  ['We', 'laugh', 'joyfully', '.']\n",
      "Pred:  ['ARG0', '_', 'ARGM-MNR', 'ARGM-MNR', '_']\n",
      "True:  ['ARG0', '_', 'ARGM-MNR', 'ARGM-MNR', '_']\n",
      "\n",
      "------Sentence  29 : Success------\n",
      "Sent:  ['Joyfully', ',', 'we', 'laugh', '.']\n",
      "Pred:  ['ARGM-MNR', 'ARGM-MNR', '_', 'ARG0', '_', '_']\n",
      "True:  ['ARGM-MNR', 'ARGM-MNR', '_', 'ARG0', '_', '_']\n",
      "\n",
      "------Sentence  30 : Success------\n",
      "Sent:  ['The', 'wind', 'howled', 'fiercely', '.']\n",
      "Pred:  ['_', 'ARG0', '_', 'ARGM-MNR', '_']\n",
      "True:  ['_', 'ARG0', '_', 'ARGM-MNR', '_']\n",
      "\n",
      "------Sentence  31 : Success------\n",
      "Sent:  ['Fiercely', ',', 'the', 'wind', 'howled', '.']\n",
      "Pred:  ['ARGM-MNR', '_', '_', 'ARG0', '_', '_']\n",
      "True:  ['ARGM-MNR', '_', '_', 'ARG0', '_', '_']\n",
      "\n",
      "------Sentence  32 : Success------\n",
      "Sent:  ['The', 'crowd', 'cheered', 'loudly', '.']\n",
      "Pred:  ['_', 'ARG0', '_', 'ARGM-MNR', '_']\n",
      "True:  ['_', 'ARG0', '_', 'ARGM-MNR', '_']\n",
      "\n",
      "Failure rate:  0.5757575757575758\n"
     ]
    },
    {
     "data": {
      "application/vnd.jupyter.widget-view+json": {
       "model_id": "117e2d73c2d843e0bab51dd9df637f98",
       "version_major": 2,
       "version_minor": 0
      },
      "text/plain": [
       "Map:   0%|          | 0/19 [00:00<?, ? examples/s]"
      ]
     },
     "metadata": {},
     "output_type": "display_data"
    },
    {
     "data": {
      "text/html": [],
      "text/plain": [
       "<IPython.core.display.HTML object>"
      ]
     },
     "metadata": {},
     "output_type": "display_data"
    },
    {
     "name": "stdout",
     "output_type": "stream",
     "text": [
      "Failure rate:  0.5263157894736842\n",
      "------Sentence  0 : Failure------\n",
      "Sent:  ['He', 'also', 'nominated', 'him', 'a', 'term', '.']\n",
      "Pred:  ['ARG0', 'ARGM-DIS', '_', 'ARG1', '_', 'ARG1', '_']\n",
      "True:  ['ARG0', 'ARGM-DIS', '_', 'ARG1', '_', 'ARG2', '_']\n",
      "\n",
      "------Sentence  1 : Failure------\n",
      "Sent:  ['Yet', 'we', 'charged', 'them', 'for', 'the', 'evacuation']\n",
      "Pred:  ['ARGM-DIS', 'ARG0', '_', 'ARG1', '_', '_', 'ARG3']\n",
      "True:  ['ARGM-DIS', 'ARG0', '_', 'ARG2', '_', '_', 'ARG3']\n",
      "\n",
      "------Sentence  2 : Success------\n",
      "Sent:  ['That', \"'s\", 'right', ',', 'folks', '.']\n",
      "Pred:  ['ARG1', '_', '_', 'ARG2', '_', 'ARGM-DIS', '_', 'ARG1']\n",
      "True:  ['ARG1', '_', '_', 'ARG2', '_', 'ARGM-DIS', '_', 'ARG1']\n",
      "\n",
      "------Sentence  3 : Success------\n",
      "Sent:  ['And', 'I', 'gave', 'it', 'all', 'my', 'heart', '.']\n",
      "Pred:  ['ARGM-DIS', 'ARG0', '_', 'ARG2', '_', '_', 'ARG1', '_']\n",
      "True:  ['ARGM-DIS', 'ARG0', '_', 'ARG2', '_', '_', 'ARG1', '_']\n",
      "\n",
      "------Sentence  4 : Success------\n",
      "Sent:  ['John', ',', 'you', 'are', 'in', ',', 'right', '?']\n",
      "Pred:  ['ARGM-DIS', '_', 'ARG1', '_', 'ARG2', '_', 'ARGM-DIS', '_']\n",
      "True:  ['ARGM-DIS', '_', 'ARG1', '_', 'ARG2', '_', 'ARGM-DIS', '_']\n",
      "\n",
      "------Sentence  5 : Success------\n",
      "Sent:  ['Please', 'notify', 'the', 'sender', '.']\n",
      "Pred:  ['ARGM-DIS', '_', '_', '_', 'ARG1', 'ARG1', '_', 'ARGM-DIS']\n",
      "True:  ['ARGM-DIS', '_', '_', '_', 'ARG1', 'ARG1', '_', 'ARGM-DIS']\n",
      "\n",
      "------Sentence  6 : Failure------\n",
      "Sent:  ['Whatever', ',', 'you', 'are', 'the', 'old', 'man', '.']\n",
      "Pred:  ['ARGM-ADV', '_', 'ARG1', '_', '_', '_', 'ARG2', '_']\n",
      "True:  ['ARGM-DIS', '_', 'ARG1', '_', '_', '_', 'ARG2', '_']\n",
      "\n",
      "------Sentence  7 : Success------\n",
      "Sent:  ['However', ',', 'he', 'also', 'mentioned', 'it', '.']\n",
      "Pred:  ['ARGM-DIS', '_', 'ARG0', 'ARGM-DIS', '_', 'ARG1', '_']\n",
      "True:  ['ARGM-DIS', '_', 'ARG0', 'ARGM-DIS', '_', 'ARG1', '_']\n",
      "\n",
      "------Sentence  8 : Failure------\n",
      "Sent:  ['As', 'such', ',', 'they', 'differ', 'in', 'respects', 'from', 'those', '.']\n",
      "Pred:  ['_', 'ARGM-ADV', '_', 'ARG0', '_', '_', 'ARG2', '_', 'ARG2', '_']\n",
      "True:  ['_', 'ARGM-DIS', '_', 'ARG1', '_', '_', 'ARG3', '_', 'ARG2', '_']\n",
      "\n",
      "------Sentence  9 : Failure------\n",
      "Sent:  ['Further', ',', 'she', 'informed', 'me', 'that', '.']\n",
      "Pred:  ['ARGM-ADV', '_', 'ARG0', '_', 'ARG1', 'ARG1', '_']\n",
      "True:  ['ARGM-DIS', '_', 'ARG0', '_', 'ARG1', 'ARG2', '_']\n",
      "\n",
      "------Sentence  10 : Success------\n",
      "Sent:  ['But', 'there', 'is', 'no', 'proof', '.']\n",
      "Pred:  ['ARGM-DIS', '_', '_', '_', 'ARG1', '_']\n",
      "True:  ['ARGM-DIS', '_', '_', '_', 'ARG1', '_']\n",
      "\n",
      "------Sentence  11 : Failure------\n",
      "Sent:  ['Most', 'troubling', ',', 'however', ',', 'is', 'the', 'fact', '.']\n",
      "Pred:  ['_', 'ARG2', 'ARG2', 'ARG2', '_', 'ARGM-DIS', '_', '_', '_', 'ARG2', '_']\n",
      "True:  ['_', 'ARG1', 'ARG1', 'ARG1', '_', 'ARGM-DIS', '_', '_', '_', 'ARG2', '_']\n",
      "\n",
      "------Sentence  12 : Failure------\n",
      "Sent:  ['It', 'is', 'just', 'bad', '.']\n",
      "Pred:  ['ARG1', '_', '_', 'ARG2', '_']\n",
      "True:  ['ARG1', '_', 'ARGM-DIS', 'ARG2', '_']\n",
      "\n",
      "------Sentence  13 : Failure------\n",
      "Sent:  ['I', 'am', 'sure', ',', 'though', '.']\n",
      "Pred:  ['ARG1', '_', 'ARG2', '_', 'ARGM-ADV', '_']\n",
      "True:  ['ARG1', '_', 'ARG2', '_', 'ARGM-DIS', '_']\n",
      "\n",
      "------Sentence  14 : Failure------\n",
      "Sent:  ['I', 'know', 'it', 'helps', 'however', '.']\n",
      "Pred:  ['ARG0', '_', '_', 'ARG1', '_', '_']\n",
      "True:  ['ARG0', '_', '_', 'ARG1', 'ARGM-DIS', '_']\n",
      "\n",
      "------Sentence  15 : Success------\n",
      "Sent:  ['Well', ',', 'you', 'know', 'it', '.']\n",
      "Pred:  ['ARGM-DIS', '_', 'ARG0', '_', 'ARG1', '_']\n",
      "True:  ['ARGM-DIS', '_', 'ARG0', '_', 'ARG1', '_']\n",
      "\n",
      "------Sentence  16 : Success------\n",
      "Sent:  ['He', 'has', 'class', ',', 'too', '.']\n",
      "Pred:  ['ARG0', '_', 'ARG1', '_', 'ARGM-DIS', '_']\n",
      "True:  ['ARG0', '_', 'ARG1', '_', 'ARGM-DIS', '_']\n",
      "\n",
      "------Sentence  17 : Failure------\n",
      "Sent:  ['He', 'is', 'on', 'board', 'as', 'well', '.']\n",
      "Pred:  ['ARG1', '_', '_', 'ARG2', 'ARGM-ADV', '_', '_']\n",
      "True:  ['ARG1', '_', '_', 'ARG2', 'ARGM-DIS', '_', '_']\n",
      "\n",
      "------Sentence  18 : Success------\n",
      "Sent:  ['Thank', 'you', 'though', '.']\n",
      "Pred:  ['_', 'ARG1', 'ARGM-DIS', '_']\n",
      "True:  ['_', 'ARG1', 'ARGM-DIS', '_']\n",
      "\n",
      "Failure rate:  0.5263157894736842\n"
     ]
    }
   ],
   "source": [
    "for path in paths:\n",
    "    do_test(path,base_trainer,True)"
   ]
  }
 ],
 "metadata": {
  "kernelspec": {
   "display_name": "Python 3 (ipykernel)",
   "language": "python",
   "name": "python3"
  },
  "language_info": {
   "codemirror_mode": {
    "name": "ipython",
    "version": 3
   },
   "file_extension": ".py",
   "mimetype": "text/x-python",
   "name": "python",
   "nbconvert_exporter": "python",
   "pygments_lexer": "ipython3",
   "version": "3.10.12"
  }
 },
 "nbformat": 4,
 "nbformat_minor": 5
}
